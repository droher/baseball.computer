{
 "cells": [
  {
   "cell_type": "code",
   "execution_count": 8,
   "metadata": {},
   "outputs": [],
   "source": [
    "import duckdb\n",
    "import pyarrow as pa\n",
    "import polars as pl\n",
    "CHUNK_SIZE = 1000000"
   ]
  },
  {
   "cell_type": "code",
   "execution_count": 9,
   "metadata": {},
   "outputs": [],
   "source": [
    "\n",
    "conn = duckdb.connect(\"timeball.db\", read_only=True)\n",
    "rel = conn.sql(\"SELECT * FROM main_models.stg_events\")\n",
    "batch_reader = rel.record_batch(CHUNK_SIZE)\n",
    "schema = batch_reader.schema\n",
    "\n",
    "def gen():\n",
    "    for batch in batch_reader:\n",
    "        df = pl.from_arrow(batch)\n",
    "        # Do some stuff in polars, then go back to arrow\n",
    "        arrow_table = df.to_arrow()\n",
    "        temp_batcher = arrow_table.to_batches(CHUNK_SIZE)\n",
    "        for new_batch in temp_batcher:\n",
    "            yield new_batch"
   ]
  },
  {
   "cell_type": "code",
   "execution_count": null,
   "metadata": {},
   "outputs": [],
   "source": [
    "final_batcher = pa.RecordBatchReader.from_batches(schema, gen())\n"
   ]
  },
  {
   "cell_type": "code",
   "execution_count": 10,
   "metadata": {},
   "outputs": [
    {
     "name": "stdout",
     "output_type": "stream",
     "text": [
      "Starting\n",
      "created table\n",
      "created batch reader\n",
      "test lazy exec\n",
      "created df obj\n"
     ]
    },
    {
     "ename": "OutOfMemoryException",
     "evalue": "Out of Memory Error: could not allocate block of size 16KB (1.0GB/1.0GB used)",
     "output_type": "error",
     "traceback": [
      "\u001b[0;31m---------------------------------------------------------------------------\u001b[0m",
      "\u001b[0;31mOutOfMemoryException\u001b[0m                      Traceback (most recent call last)",
      "\u001b[1;32m/Users/davidroher/Repos/timeball-dbt/scratch.ipynb Cell 4\u001b[0m line \u001b[0;36m2\n\u001b[1;32m     <a href='vscode-notebook-cell:/Users/davidroher/Repos/timeball-dbt/scratch.ipynb#W3sZmlsZQ%3D%3D?line=23'>24</a>\u001b[0m df \u001b[39m=\u001b[39m dbt_sim()\n\u001b[1;32m     <a href='vscode-notebook-cell:/Users/davidroher/Repos/timeball-dbt/scratch.ipynb#W3sZmlsZQ%3D%3D?line=24'>25</a>\u001b[0m \u001b[39mprint\u001b[39m(\u001b[39m\"\u001b[39m\u001b[39mcreated df obj\u001b[39m\u001b[39m\"\u001b[39m)\n\u001b[0;32m---> <a href='vscode-notebook-cell:/Users/davidroher/Repos/timeball-dbt/scratch.ipynb#W3sZmlsZQ%3D%3D?line=25'>26</a>\u001b[0m conn\u001b[39m.\u001b[39;49mexecute(\u001b[39m\"\u001b[39;49m\u001b[39mCREATE OR REPLACE TABLE t2 AS (SELECT * FROM df)\u001b[39;49m\u001b[39m\"\u001b[39;49m)\n\u001b[1;32m     <a href='vscode-notebook-cell:/Users/davidroher/Repos/timeball-dbt/scratch.ipynb#W3sZmlsZQ%3D%3D?line=26'>27</a>\u001b[0m conn\u001b[39m.\u001b[39msql(\u001b[39m\"\u001b[39m\u001b[39mSELECT COUNT(*) FROM t2\u001b[39m\u001b[39m\"\u001b[39m)\n",
      "\u001b[0;31mOutOfMemoryException\u001b[0m: Out of Memory Error: could not allocate block of size 16KB (1.0GB/1.0GB used)"
     ]
    }
   ],
   "source": [
    "import duckdb\n",
    "import pyarrow as pa\n",
    "from time import sleep\n",
    "i = 0\n",
    "conn = duckdb.connect(\"test.db\")\n",
    "def gen(batch_reader: pa.RecordBatchReader):\n",
    "    global i\n",
    "    for batch in batch_reader:\n",
    "        i += batch.num_rows\n",
    "        yield batch\n",
    "\n",
    "def dbt_sim():\n",
    "    print(\"Starting\")\n",
    "    cur = conn.cursor()\n",
    "    cur.execute(\"CREATE OR REPLACE TABLE t AS (SELECT * AS var_col FROM UNNEST(generate_series(1, 10000000)))\")\n",
    "    o: duckdb.DuckDBPyRelation = cur.sql(\"SELECT * FROM t\")\n",
    "    print(\"created table\")\n",
    "    batch_reader: pa.RecordBatchReader = o.record_batch(10)\n",
    "    print(\"created batch reader\")\n",
    "    new_reader = pa.RecordBatchReader.from_batches(batch_reader.schema, gen(batch_reader))\n",
    "    print(\"test lazy exec\")\n",
    "    return new_reader\n",
    "\n",
    "df = dbt_sim()\n",
    "print(\"created df obj\")\n",
    "conn.execute(\"CREATE OR REPLACE TABLE t2 AS (SELECT * FROM df)\")\n",
    "conn.sql(\"SELECT COUNT(*) FROM t2\")"
   ]
  },
  {
   "cell_type": "code",
   "execution_count": null,
   "metadata": {},
   "outputs": [],
   "source": []
  }
 ],
 "metadata": {
  "kernelspec": {
   "display_name": "Python 3",
   "language": "python",
   "name": "python3"
  },
  "language_info": {
   "codemirror_mode": {
    "name": "ipython",
    "version": 3
   },
   "file_extension": ".py",
   "mimetype": "text/x-python",
   "name": "python",
   "nbconvert_exporter": "python",
   "pygments_lexer": "ipython3",
   "version": "3.10.12"
  },
  "orig_nbformat": 4
 },
 "nbformat": 4,
 "nbformat_minor": 2
}
